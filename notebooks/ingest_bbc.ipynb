{
 "cells": [
  {
   "cell_type": "markdown",
   "metadata": {},
   "source": [
    "# BBC Dataset Ingestion\n",
    "Use this notebook to load the BBC news dataset and push it into the local Weaviate instance."
   ]
  },
  {
   "cell_type": "code",
   "execution_count": null,
   "metadata": {},
   "outputs": [],
   "source": [
    "from pathlib import Path\n",
    "import sys\n",
    "\n",
    "PROJECT_ROOT = Path().resolve()\n",
    "SRC_ROOT = PROJECT_ROOT / \"src\"\n",
    "if str(SRC_ROOT) not in sys.path:\n",
    "    sys.path.append(str(SRC_ROOT))\n"
   ]
  },
  {
   "cell_type": "code",
   "execution_count": null,
   "metadata": {},
   "outputs": [],
   "source": [
    "from dataclasses import asdict\n",
    "from typing import Iterable, Sequence\n",
    "\n",
    "import weaviate\n",
    "from datasets import Dataset, load_dataset\n",
    "from tqdm.auto import tqdm\n",
    "from weaviate.classes.config import Configure, DataType, Property\n",
    "\n",
    "from news_chatbot.config import load_weaviate_settings\n"
   ]
  },
  {
   "cell_type": "code",
   "execution_count": null,
   "metadata": {},
   "outputs": [],
   "source": [
    "COLLECTION_NAME = \"BBCArticle\"\n",
    "BATCH_SIZE = 64\n",
    "\n",
    "def ensure_collection(client: weaviate.WeaviateClient) -> weaviate.collections.Collection:\n",
    "    \"\"\"Create the collection if it does not already exist.\"\"\"\n",
    "    if client.collections.exists(COLLECTION_NAME):\n",
    "        return client.collections.get(COLLECTION_NAME)\n",
    "\n",
    "    client.collections.create(\n",
    "        name=COLLECTION_NAME,\n",
    "        vectorizer_config=Configure.Vectorizer.text2vec_transformers(),\n",
    "        properties=[\n",
    "            Property(name=\"news_id\", data_type=DataType.TEXT),\n",
    "            Property(name=\"article\", data_type=DataType.TEXT),\n",
    "            Property(name=\"summary\", data_type=DataType.TEXT),\n",
    "        ],\n",
    "    )\n",
    "    return client.collections.get(COLLECTION_NAME)\n"
   ]
  },
  {
   "cell_type": "code",
   "execution_count": null,
   "metadata": {},
   "outputs": [],
   "source": [
    "def batched(rows: Iterable[dict], size: int) -> Iterable[Sequence[dict]]:\n",
    "    \"\"\"Yield dictionaries from the dataset in fixed-size bundles.\"\"\"\n",
    "    batch: list[dict] = []\n",
    "    for row in rows:\n",
    "        batch.append(row)\n",
    "        if len(batch) == size:\n",
    "            yield batch\n",
    "            batch = []\n",
    "    if batch:\n",
    "        yield batch\n"
   ]
  },
  {
   "cell_type": "code",
   "execution_count": null,
   "metadata": {},
   "outputs": [],
   "source": [
    "def ingest() -> None:\n",
    "    \"\"\"Load the BBC dataset and write it into Weaviate using dynamic batching.\"\"\"\n",
    "    dataset: Dataset = load_dataset(\"shwet/BBC_NEWS\", split=\"train\")\n",
    "    total_rows = len(dataset)\n",
    "    settings = load_weaviate_settings()\n",
    "\n",
    "    with weaviate.connect_to_local(\n",
    "        host=settings.host,\n",
    "        port=settings.port,\n",
    "        grpc_port=settings.grpc_port,\n",
    "        headers=settings.headers,\n",
    "    ) as client:\n",
    "        collection = ensure_collection(client)\n",
    "\n",
    "        with collection.batch.dynamic() as writer, tqdm(\n",
    "            total=total_rows,\n",
    "            desc=\"Ingesting BBC articles\",\n",
    "            unit=\"rows\",\n",
    "        ) as progress:\n",
    "            for rows in batched(dataset, BATCH_SIZE):\n",
    "                for row in rows:\n",
    "                    writer.add_object(\n",
    "                        properties={\n",
    "                            \"news_id\": str(row[\"ids\"]),\n",
    "                            \"article\": row[\"articles\"],\n",
    "                            \"summary\": row[\"summary\"],\n",
    "                        },\n",
    "                    )\n",
    "                progress.update(len(rows))\n"
   ]
  },
  {
   "cell_type": "code",
   "execution_count": null,
   "metadata": {},
   "outputs": [],
   "source": [
    "# Run the ingestion (uncomment to execute)\n",
    "# ingest()\n"
   ]
  },
  {
   "cell_type": "code",
   "execution_count": null,
   "metadata": {},
   "outputs": [],
   "source": [
    "settings = load_weaviate_settings()\n",
    "with weaviate.connect_to_local(\n",
    "    host=settings.host,\n",
    "    port=settings.port,\n",
    "    grpc_port=settings.grpc_port,\n",
    "    headers=settings.headers,\n",
    ") as client:\n",
    "    collection = client.collections.get(COLLECTION_NAME)\n",
    "    response = collection.query.near_text(\n",
    "        query=\"Give me news about London\",\n",
    "        limit=1,\n",
    "        return_metadata=[\"distance\", \"score\"],\n",
    "    )\n",
    "    asdict(response)\n"
   ]
  }
 ],
 "metadata": {
  "kernelspec": {
   "display_name": "Python 3",
   "language": "python",
   "name": "python3"
  },
  "language_info": {
   "codemirror_mode": {
    "name": "ipython",
    "version": 3
   },
   "file_extension": ".py",
   "mimetype": "text/x-python",
   "name": "python",
   "nbconvert_exporter": "python",
   "pygments_lexer": "ipython3",
   "version": "3.13"
  }
 },
 "nbformat": 4,
 "nbformat_minor": 5
}
